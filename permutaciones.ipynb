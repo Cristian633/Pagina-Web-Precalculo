{
  "nbformat": 4,
  "nbformat_minor": 0,
  "metadata": {
    "colab": {
      "provenance": [],
      "authorship_tag": "ABX9TyOIvTPOUsOCeqTqsN8O58NA",
      "include_colab_link": true
    },
    "kernelspec": {
      "name": "python3",
      "display_name": "Python 3"
    },
    "language_info": {
      "name": "python"
    }
  },
  "cells": [
    {
      "cell_type": "markdown",
      "metadata": {
        "id": "view-in-github",
        "colab_type": "text"
      },
      "source": [
        "<a href=\"https://colab.research.google.com/github/Cristian633/Pagina-Web-Precalculo/blob/main/permutaciones.ipynb\" target=\"_parent\"><img src=\"https://colab.research.google.com/assets/colab-badge.svg\" alt=\"Open In Colab\"/></a>"
      ]
    },
    {
      "cell_type": "code",
      "execution_count": 1,
      "metadata": {
        "colab": {
          "base_uri": "https://localhost:8080/"
        },
        "id": "kJ3iKdvleLe-",
        "outputId": "dd9411b6-d895-48a4-9c75-5e0ab5fcb767"
      },
      "outputs": [
        {
          "output_type": "stream",
          "name": "stdout",
          "text": [
            "Ingresa el valor de n (total de elementos): 4\n",
            "Ingresa el valor de r (elementos a tomar): 2\n",
            "P(4, 2) = 12\n"
          ]
        }
      ],
      "source": [
        "from math import factorial\n",
        "\n",
        "\n",
        "def permutaciones(n, r):\n",
        "    \"\"\"\n",
        "    Calcula el número de permutaciones de n elementos tomados de r en r.\n",
        "    \"\"\"\n",
        "    if r > n or n < 0 or r < 0:\n",
        "        return \"Valores no válidos. Asegúrate de que 0 ≤ r ≤ n.\"\n",
        "\n",
        "    return factorial(n) // factorial(n - r)\n",
        "\n",
        "\n",
        "# Ejemplo de uso\n",
        "n = int(input(\"Ingresa el valor de n (total de elementos): \"))\n",
        "r = int(input(\"Ingresa el valor de r (elementos a tomar): \"))\n",
        "\n",
        "resultado = permutaciones(n, r)\n",
        "print(f\"P({n}, {r}) = {resultado}\")"
      ]
    }
  ]
}